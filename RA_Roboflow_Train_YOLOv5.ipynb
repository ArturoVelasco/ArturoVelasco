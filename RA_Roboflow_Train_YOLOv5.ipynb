{
  "nbformat": 4,
  "nbformat_minor": 0,
  "metadata": {
    "colab": {
      "name": "RA Roboflow-Train-YOLOv5",
      "provenance": [],
      "collapsed_sections": [],
      "include_colab_link": true
    },
    "kernelspec": {
      "name": "python3",
      "display_name": "Python 3"
    },
    "accelerator": "GPU"
  },
  "cells": [
    {
      "cell_type": "markdown",
      "metadata": {
        "id": "view-in-github",
        "colab_type": "text"
      },
      "source": [
        "<a href=\"https://colab.research.google.com/github/ArturoVelasco/ArturoVelasco/blob/main/RA_Roboflow_Train_YOLOv5.ipynb\" target=\"_parent\"><img src=\"https://colab.research.google.com/assets/colab-badge.svg\" alt=\"Open In Colab\"/></a>"
      ]
    },
    {
      "cell_type": "markdown",
      "metadata": {
        "id": "GD9gUQpaBxNa"
      },
      "source": [
        "# How to Train YOLOv5 on Custom Objects\n",
        "\n",
        "This tutorial is based on the [YOLOv5 repository](https://github.com/ultralytics/yolov5) by [Ultralytics](https://www.ultralytics.com/). This notebook shows training on **your own custom objects**. Many thanks to Ultralytics for putting this repository together - we hope that in combination with clean data management tools at Roboflow, this technologoy will become easily accessible to any developer wishing to use computer vision in their projects.\n",
        "\n",
        "### Accompanying Blog Post\n",
        "\n",
        "We recommend that you follow along in this notebook while reading the blog post on [how to train YOLOv5](https://blog.roboflow.ai/how-to-train-yolov5-on-a-custom-dataset/), concurrently.\n",
        "\n",
        "### Steps Covered in this Tutorial\n",
        "\n",
        "In this tutorial, we will walk through the steps required to train YOLOv5 on your custom objects which is open source and free to use. You can also use this notebook on your own data.\n",
        "\n",
        "To train our detector we take the following steps:\n",
        "\n",
        "* Install YOLOv5 dependencies\n",
        "* Download custom YOLOv5 object detection data\n",
        "* Write our YOLOv5 Training configuration\n",
        "* Run YOLOv5 training\n",
        "* Evaluate YOLOv5 performance\n",
        "* Visualize YOLOv5 training data\n",
        "* Run YOLOv5 inference on test images\n",
        "* Export saved YOLOv5 weights for future inference\n",
        "\n",
        "\n",
        "\n",
        "### **About**\n",
        "\n",
        "[Roboflow](https://roboflow.com) enables teams to deploy custom computer vision models quickly and accurately. Convert data from to annotation format, assess dataset health, preprocess, augment, and more. It's free for your first 1000 source images.\n",
        "\n",
        "**Looking for a vision model available via API without hassle? Try Roboflow Train.**\n",
        "\n",
        "![Roboflow Wordmark](https://i.imgur.com/dcLNMhV.png)\n",
        "\n"
      ]
    },
    {
      "cell_type": "markdown",
      "metadata": {
        "id": "7mGmQbAO5pQb"
      },
      "source": [
        "#Install Dependencies\n",
        "\n",
        "_(Remember to choose GPU in Runtime if not already selected. Runtime --> Change Runtime Type --> Hardware accelerator --> GPU)_"
      ]
    },
    {
      "cell_type": "code",
      "metadata": {
        "colab": {
          "base_uri": "https://localhost:8080/"
        },
        "id": "Ie5uLDH4uzAp",
        "outputId": "8bcab5bf-0621-4b50-d97e-bffb11332098"
      },
      "source": [
        "# clone YOLOv5 repository\n",
        "!git clone https://github.com/ultralytics/yolov5  # clone repo\n",
        "%cd yolov5\n",
        "!git reset --hard 886f1c03d839575afecb059accf74296fad395b6"
      ],
      "execution_count": null,
      "outputs": [
        {
          "output_type": "stream",
          "name": "stdout",
          "text": [
            "Cloning into 'yolov5'...\n",
            "remote: Enumerating objects: 12789, done.\u001b[K\n",
            "remote: Total 12789 (delta 0), reused 0 (delta 0), pack-reused 12789\u001b[K\n",
            "Receiving objects: 100% (12789/12789), 11.76 MiB | 30.89 MiB/s, done.\n",
            "Resolving deltas: 100% (8896/8896), done.\n",
            "/content/yolov5\n",
            "HEAD is now at 886f1c0 DDP after autoanchor reorder (#2421)\n"
          ]
        }
      ]
    },
    {
      "cell_type": "code",
      "metadata": {
        "id": "wbvMlHd_QwMG",
        "colab": {
          "base_uri": "https://localhost:8080/"
        },
        "outputId": "b8d0f413-5a97-41ed-bd8a-af04c5941b34"
      },
      "source": [
        "# install dependencies as necessary\n",
        "!pip install -qr requirements.txt  # install dependencies (ignore errors)\n",
        "import torch\n",
        "\n",
        "from IPython.display import Image, clear_output  # to display images\n",
        "from utils.google_utils import gdrive_download  # to download models/datasets\n",
        "\n",
        "# clear_output()\n",
        "print('Setup complete. Using torch %s %s' % (torch.__version__, torch.cuda.get_device_properties(0) if torch.cuda.is_available() else 'CPU'))"
      ],
      "execution_count": null,
      "outputs": [
        {
          "output_type": "stream",
          "name": "stdout",
          "text": [
            "\u001b[?25l\r\u001b[K     |▌                               | 10 kB 22.3 MB/s eta 0:00:01\r\u001b[K     |█                               | 20 kB 12.8 MB/s eta 0:00:01\r\u001b[K     |█▋                              | 30 kB 9.8 MB/s eta 0:00:01\r\u001b[K     |██▏                             | 40 kB 8.8 MB/s eta 0:00:01\r\u001b[K     |██▊                             | 51 kB 3.5 MB/s eta 0:00:01\r\u001b[K     |███▎                            | 61 kB 4.1 MB/s eta 0:00:01\r\u001b[K     |███▉                            | 71 kB 4.8 MB/s eta 0:00:01\r\u001b[K     |████▍                           | 81 kB 5.4 MB/s eta 0:00:01\r\u001b[K     |█████                           | 92 kB 5.9 MB/s eta 0:00:01\r\u001b[K     |█████▌                          | 102 kB 5.3 MB/s eta 0:00:01\r\u001b[K     |██████                          | 112 kB 5.3 MB/s eta 0:00:01\r\u001b[K     |██████▋                         | 122 kB 5.3 MB/s eta 0:00:01\r\u001b[K     |███████▏                        | 133 kB 5.3 MB/s eta 0:00:01\r\u001b[K     |███████▊                        | 143 kB 5.3 MB/s eta 0:00:01\r\u001b[K     |████████▎                       | 153 kB 5.3 MB/s eta 0:00:01\r\u001b[K     |████████▉                       | 163 kB 5.3 MB/s eta 0:00:01\r\u001b[K     |█████████▍                      | 174 kB 5.3 MB/s eta 0:00:01\r\u001b[K     |██████████                      | 184 kB 5.3 MB/s eta 0:00:01\r\u001b[K     |██████████▍                     | 194 kB 5.3 MB/s eta 0:00:01\r\u001b[K     |███████████                     | 204 kB 5.3 MB/s eta 0:00:01\r\u001b[K     |███████████▌                    | 215 kB 5.3 MB/s eta 0:00:01\r\u001b[K     |████████████                    | 225 kB 5.3 MB/s eta 0:00:01\r\u001b[K     |████████████▋                   | 235 kB 5.3 MB/s eta 0:00:01\r\u001b[K     |█████████████▏                  | 245 kB 5.3 MB/s eta 0:00:01\r\u001b[K     |█████████████▊                  | 256 kB 5.3 MB/s eta 0:00:01\r\u001b[K     |██████████████▎                 | 266 kB 5.3 MB/s eta 0:00:01\r\u001b[K     |██████████████▉                 | 276 kB 5.3 MB/s eta 0:00:01\r\u001b[K     |███████████████▍                | 286 kB 5.3 MB/s eta 0:00:01\r\u001b[K     |████████████████                | 296 kB 5.3 MB/s eta 0:00:01\r\u001b[K     |████████████████▌               | 307 kB 5.3 MB/s eta 0:00:01\r\u001b[K     |█████████████████               | 317 kB 5.3 MB/s eta 0:00:01\r\u001b[K     |█████████████████▋              | 327 kB 5.3 MB/s eta 0:00:01\r\u001b[K     |██████████████████▏             | 337 kB 5.3 MB/s eta 0:00:01\r\u001b[K     |██████████████████▊             | 348 kB 5.3 MB/s eta 0:00:01\r\u001b[K     |███████████████████▎            | 358 kB 5.3 MB/s eta 0:00:01\r\u001b[K     |███████████████████▉            | 368 kB 5.3 MB/s eta 0:00:01\r\u001b[K     |████████████████████▍           | 378 kB 5.3 MB/s eta 0:00:01\r\u001b[K     |████████████████████▉           | 389 kB 5.3 MB/s eta 0:00:01\r\u001b[K     |█████████████████████▍          | 399 kB 5.3 MB/s eta 0:00:01\r\u001b[K     |██████████████████████          | 409 kB 5.3 MB/s eta 0:00:01\r\u001b[K     |██████████████████████▌         | 419 kB 5.3 MB/s eta 0:00:01\r\u001b[K     |███████████████████████         | 430 kB 5.3 MB/s eta 0:00:01\r\u001b[K     |███████████████████████▋        | 440 kB 5.3 MB/s eta 0:00:01\r\u001b[K     |████████████████████████▏       | 450 kB 5.3 MB/s eta 0:00:01\r\u001b[K     |████████████████████████▊       | 460 kB 5.3 MB/s eta 0:00:01\r\u001b[K     |█████████████████████████▎      | 471 kB 5.3 MB/s eta 0:00:01\r\u001b[K     |█████████████████████████▉      | 481 kB 5.3 MB/s eta 0:00:01\r\u001b[K     |██████████████████████████▍     | 491 kB 5.3 MB/s eta 0:00:01\r\u001b[K     |███████████████████████████     | 501 kB 5.3 MB/s eta 0:00:01\r\u001b[K     |███████████████████████████▌    | 512 kB 5.3 MB/s eta 0:00:01\r\u001b[K     |████████████████████████████    | 522 kB 5.3 MB/s eta 0:00:01\r\u001b[K     |████████████████████████████▋   | 532 kB 5.3 MB/s eta 0:00:01\r\u001b[K     |█████████████████████████████▏  | 542 kB 5.3 MB/s eta 0:00:01\r\u001b[K     |█████████████████████████████▊  | 552 kB 5.3 MB/s eta 0:00:01\r\u001b[K     |██████████████████████████████▎ | 563 kB 5.3 MB/s eta 0:00:01\r\u001b[K     |██████████████████████████████▊ | 573 kB 5.3 MB/s eta 0:00:01\r\u001b[K     |███████████████████████████████▎| 583 kB 5.3 MB/s eta 0:00:01\r\u001b[K     |███████████████████████████████▉| 593 kB 5.3 MB/s eta 0:00:01\r\u001b[K     |████████████████████████████████| 596 kB 5.3 MB/s \n",
            "\u001b[?25hSetup complete. Using torch 1.10.0+cu111 _CudaDeviceProperties(name='Tesla T4', major=7, minor=5, total_memory=15109MB, multi_processor_count=40)\n"
          ]
        }
      ]
    },
    {
      "cell_type": "markdown",
      "metadata": {
        "id": "SDIhrBF0sPaM"
      },
      "source": [
        "# Download Correctly Formatted Custom Dataset \n",
        "\n",
        "We'll download our dataset from Roboflow. Use the \"**YOLOv5 PyTorch**\" export format. Note that the Ultralytics implementation calls for a YAML file defining where your training and test data is. The Roboflow export also writes this format for us.\n",
        "\n",
        "To get your data into Roboflow, follow the [Getting Started Guide](https://blog.roboflow.ai/getting-started-with-roboflow/)."
      ]
    },
    {
      "cell_type": "markdown",
      "metadata": {
        "id": "vDeebwqS9JbZ"
      },
      "source": [
        "\n",
        "\n",
        "![YOLOv5 PyTorch export](https://i.imgur.com/5vr9G2u.png)\n"
      ]
    },
    {
      "cell_type": "code",
      "metadata": {
        "id": "Knxi2ncxWffW",
        "colab": {
          "base_uri": "https://localhost:8080/"
        },
        "outputId": "410af988-f09d-428d-dfbb-e8372ed76fd3"
      },
      "source": [
        "#follow the link below to get your download code from from Roboflow\n",
        "!pip install -q roboflow\n",
        "from roboflow import Roboflow\n",
        "rf = Roboflow(model_format=\"yolov5\", notebook=\"roboflow-yolov5\")"
      ],
      "execution_count": null,
      "outputs": [
        {
          "output_type": "stream",
          "name": "stdout",
          "text": [
            "\u001b[?25l\r\u001b[K     |██▎                             | 10 kB 27.2 MB/s eta 0:00:01\r\u001b[K     |████▌                           | 20 kB 28.2 MB/s eta 0:00:01\r\u001b[K     |██████▊                         | 30 kB 12.4 MB/s eta 0:00:01\r\u001b[K     |█████████                       | 40 kB 4.5 MB/s eta 0:00:01\r\u001b[K     |███████████▎                    | 51 kB 4.8 MB/s eta 0:00:01\r\u001b[K     |█████████████▌                  | 61 kB 5.7 MB/s eta 0:00:01\r\u001b[K     |███████████████▊                | 71 kB 5.6 MB/s eta 0:00:01\r\u001b[K     |██████████████████              | 81 kB 5.6 MB/s eta 0:00:01\r\u001b[K     |████████████████████▎           | 92 kB 6.2 MB/s eta 0:00:01\r\u001b[K     |██████████████████████▌         | 102 kB 5.2 MB/s eta 0:00:01\r\u001b[K     |████████████████████████▊       | 112 kB 5.2 MB/s eta 0:00:01\r\u001b[K     |███████████████████████████     | 122 kB 5.2 MB/s eta 0:00:01\r\u001b[K     |█████████████████████████████▎  | 133 kB 5.2 MB/s eta 0:00:01\r\u001b[K     |███████████████████████████████▌| 143 kB 5.2 MB/s eta 0:00:01\r\u001b[K     |████████████████████████████████| 145 kB 5.2 MB/s \n",
            "\u001b[K     |████████████████████████████████| 178 kB 56.0 MB/s \n",
            "\u001b[K     |████████████████████████████████| 1.1 MB 59.2 MB/s \n",
            "\u001b[K     |████████████████████████████████| 67 kB 5.3 MB/s \n",
            "\u001b[K     |████████████████████████████████| 54 kB 2.3 MB/s \n",
            "\u001b[K     |████████████████████████████████| 138 kB 58.2 MB/s \n",
            "\u001b[K     |████████████████████████████████| 63 kB 1.7 MB/s \n",
            "\u001b[?25h  Building wheel for roboflow (setup.py) ... \u001b[?25l\u001b[?25hdone\n",
            "  Building wheel for wget (setup.py) ... \u001b[?25l\u001b[?25hdone\n",
            "\u001b[31mERROR: pip's dependency resolver does not currently take into account all the packages that are installed. This behaviour is the source of the following dependency conflicts.\n",
            "google-colab 1.0.0 requires requests~=2.23.0, but you have requests 2.27.1 which is incompatible.\n",
            "datascience 0.10.6 requires folium==0.2.1, but you have folium 0.8.3 which is incompatible.\n",
            "albumentations 0.1.12 requires imgaug<0.2.7,>=0.2.5, but you have imgaug 0.2.9 which is incompatible.\u001b[0m\n",
            "upload and label your dataset, and get an API KEY here: https://app.roboflow.com/?model=yolov5&ref=roboflow-yolov5\n"
          ]
        }
      ]
    },
    {
      "cell_type": "code",
      "metadata": {
        "id": "Ug_PhK1oqwQA",
        "colab": {
          "base_uri": "https://localhost:8080/"
        },
        "outputId": "350c64cb-09b6-449e-f403-b085a4c7437d"
      },
      "source": [
        "%cd /content/yolov5\n",
        "\n",
        "from roboflow import Roboflow\n",
        "rf = Roboflow(api_key=\"c9k1rpcxRCi5Mx8PcZHX\")\n",
        "project = rf.workspace(\"arturo-velasco\").project(\"inmoov\")\n",
        "dataset = project.version(1).download(\"yolov5\")\n",
        "#after following the link above, recieve python code with these fields filled in\n",
        "#from roboflow import Roboflow\n",
        "#rf = Roboflow(api_key=\"YOUR API KEY HERE\")\n",
        "#project = rf.workspace().project(\"YOUR PROJECT\")\n",
        "#dataset = project.version(\"YOUR VERSION\").download(\"yolov5\")"
      ],
      "execution_count": null,
      "outputs": [
        {
          "output_type": "stream",
          "name": "stdout",
          "text": [
            "/content/yolov5\n",
            "loading Roboflow workspace...\n",
            "loading Roboflow project...\n",
            "Downloading Dataset Version Zip in InMoov-1 to yolov5pytorch: 100% [26959581 / 26959581] bytes\n"
          ]
        },
        {
          "output_type": "stream",
          "name": "stderr",
          "text": [
            "Extracting Dataset Version Zip to InMoov-1 in yolov5pytorch:: 100%|██████████| 2168/2168 [00:01<00:00, 1525.22it/s]\n"
          ]
        }
      ]
    },
    {
      "cell_type": "code",
      "metadata": {
        "id": "ZZ3DmmGQztJj",
        "colab": {
          "base_uri": "https://localhost:8080/"
        },
        "outputId": "e94d8b6c-e723-4328-f9fa-f4bc41ee0a3b"
      },
      "source": [
        "# this is the YAML file Roboflow wrote for us that we're loading into this notebook with our data\n",
        "%cat {dataset.location}/data.yaml"
      ],
      "execution_count": null,
      "outputs": [
        {
          "output_type": "stream",
          "name": "stdout",
          "text": [
            "names:\n",
            "- '0'\n",
            "- '1'\n",
            "- '2'\n",
            "nc: 3\n",
            "train: InMoov-1/train/images\n",
            "val: InMoov-1/valid/images\n"
          ]
        }
      ]
    },
    {
      "cell_type": "markdown",
      "metadata": {
        "id": "UwJx-2NHsYxT"
      },
      "source": [
        "# Define Model Configuration and Architecture\n",
        "\n",
        "We will write a yaml script that defines the parameters for our model like the number of classes, anchors, and each layer.\n",
        "\n",
        "You do not need to edit these cells, but you may."
      ]
    },
    {
      "cell_type": "code",
      "metadata": {
        "id": "dOPn9wjOAwwK"
      },
      "source": [
        "# define number of classes based on YAML\n",
        "import yaml\n",
        "with open(dataset.location + \"/data.yaml\", 'r') as stream:\n",
        "    num_classes = str(yaml.safe_load(stream)['nc'])"
      ],
      "execution_count": null,
      "outputs": []
    },
    {
      "cell_type": "code",
      "metadata": {
        "id": "1Rvt5wilnDyX",
        "colab": {
          "base_uri": "https://localhost:8080/"
        },
        "outputId": "9ea34393-426e-4a8c-dfa9-fb2c5717d251"
      },
      "source": [
        "#this is the model configuration we will use for our tutorial \n",
        "%cat /content/yolov5/models/yolov5s.yaml"
      ],
      "execution_count": null,
      "outputs": [
        {
          "output_type": "stream",
          "name": "stdout",
          "text": [
            "# parameters\n",
            "nc: 80  # number of classes\n",
            "depth_multiple: 0.33  # model depth multiple\n",
            "width_multiple: 0.50  # layer channel multiple\n",
            "\n",
            "# anchors\n",
            "anchors:\n",
            "  - [10,13, 16,30, 33,23]  # P3/8\n",
            "  - [30,61, 62,45, 59,119]  # P4/16\n",
            "  - [116,90, 156,198, 373,326]  # P5/32\n",
            "\n",
            "# YOLOv5 backbone\n",
            "backbone:\n",
            "  # [from, number, module, args]\n",
            "  [[-1, 1, Focus, [64, 3]],  # 0-P1/2\n",
            "   [-1, 1, Conv, [128, 3, 2]],  # 1-P2/4\n",
            "   [-1, 3, C3, [128]],\n",
            "   [-1, 1, Conv, [256, 3, 2]],  # 3-P3/8\n",
            "   [-1, 9, C3, [256]],\n",
            "   [-1, 1, Conv, [512, 3, 2]],  # 5-P4/16\n",
            "   [-1, 9, C3, [512]],\n",
            "   [-1, 1, Conv, [1024, 3, 2]],  # 7-P5/32\n",
            "   [-1, 1, SPP, [1024, [5, 9, 13]]],\n",
            "   [-1, 3, C3, [1024, False]],  # 9\n",
            "  ]\n",
            "\n",
            "# YOLOv5 head\n",
            "head:\n",
            "  [[-1, 1, Conv, [512, 1, 1]],\n",
            "   [-1, 1, nn.Upsample, [None, 2, 'nearest']],\n",
            "   [[-1, 6], 1, Concat, [1]],  # cat backbone P4\n",
            "   [-1, 3, C3, [512, False]],  # 13\n",
            "\n",
            "   [-1, 1, Conv, [256, 1, 1]],\n",
            "   [-1, 1, nn.Upsample, [None, 2, 'nearest']],\n",
            "   [[-1, 4], 1, Concat, [1]],  # cat backbone P3\n",
            "   [-1, 3, C3, [256, False]],  # 17 (P3/8-small)\n",
            "\n",
            "   [-1, 1, Conv, [256, 3, 2]],\n",
            "   [[-1, 14], 1, Concat, [1]],  # cat head P4\n",
            "   [-1, 3, C3, [512, False]],  # 20 (P4/16-medium)\n",
            "\n",
            "   [-1, 1, Conv, [512, 3, 2]],\n",
            "   [[-1, 10], 1, Concat, [1]],  # cat head P5\n",
            "   [-1, 3, C3, [1024, False]],  # 23 (P5/32-large)\n",
            "\n",
            "   [[17, 20, 23], 1, Detect, [nc, anchors]],  # Detect(P3, P4, P5)\n",
            "  ]\n"
          ]
        }
      ]
    },
    {
      "cell_type": "code",
      "metadata": {
        "id": "t14hhyqdmw6O"
      },
      "source": [
        "#customize iPython writefile so we can write variables\n",
        "from IPython.core.magic import register_line_cell_magic\n",
        "\n",
        "@register_line_cell_magic\n",
        "def writetemplate(line, cell):\n",
        "    with open(line, 'w') as f:\n",
        "        f.write(cell.format(**globals()))"
      ],
      "execution_count": null,
      "outputs": []
    },
    {
      "cell_type": "code",
      "metadata": {
        "id": "uDxebz13RdRA"
      },
      "source": [
        "%%writetemplate /content/yolov5/models/custom_yolov5s.yaml\n",
        "\n",
        "# parameters\n",
        "nc: {num_classes}  # number of classes\n",
        "depth_multiple: 0.33  # model depth multiple\n",
        "width_multiple: 0.50  # layer channel multiple\n",
        "\n",
        "# anchors\n",
        "anchors:\n",
        "  - [10,13, 16,30, 33,23]  # P3/8\n",
        "  - [30,61, 62,45, 59,119]  # P4/16\n",
        "  - [116,90, 156,198, 373,326]  # P5/32\n",
        "\n",
        "# YOLOv5 backbone\n",
        "backbone:\n",
        "  # [from, number, module, args]\n",
        "  [[-1, 1, Focus, [64, 3]],  # 0-P1/2\n",
        "   [-1, 1, Conv, [128, 3, 2]],  # 1-P2/4\n",
        "   [-1, 3, BottleneckCSP, [128]],\n",
        "   [-1, 1, Conv, [256, 3, 2]],  # 3-P3/8\n",
        "   [-1, 9, BottleneckCSP, [256]],\n",
        "   [-1, 1, Conv, [512, 3, 2]],  # 5-P4/16\n",
        "   [-1, 9, BottleneckCSP, [512]],\n",
        "   [-1, 1, Conv, [1024, 3, 2]],  # 7-P5/32\n",
        "   [-1, 1, SPP, [1024, [5, 9, 13]]],\n",
        "   [-1, 3, BottleneckCSP, [1024, False]],  # 9\n",
        "  ]\n",
        "\n",
        "# YOLOv5 head\n",
        "head:\n",
        "  [[-1, 1, Conv, [512, 1, 1]],\n",
        "   [-1, 1, nn.Upsample, [None, 2, 'nearest']],\n",
        "   [[-1, 6], 1, Concat, [1]],  # cat backbone P4\n",
        "   [-1, 3, BottleneckCSP, [512, False]],  # 13\n",
        "\n",
        "   [-1, 1, Conv, [256, 1, 1]],\n",
        "   [-1, 1, nn.Upsample, [None, 2, 'nearest']],\n",
        "   [[-1, 4], 1, Concat, [1]],  # cat backbone P3\n",
        "   [-1, 3, BottleneckCSP, [256, False]],  # 17 (P3/8-small)\n",
        "\n",
        "   [-1, 1, Conv, [256, 3, 2]],\n",
        "   [[-1, 14], 1, Concat, [1]],  # cat head P4\n",
        "   [-1, 3, BottleneckCSP, [512, False]],  # 20 (P4/16-medium)\n",
        "\n",
        "   [-1, 1, Conv, [512, 3, 2]],\n",
        "   [[-1, 10], 1, Concat, [1]],  # cat head P5\n",
        "   [-1, 3, BottleneckCSP, [1024, False]],  # 23 (P5/32-large)\n",
        "\n",
        "   [[17, 20, 23], 1, Detect, [nc, anchors]],  # Detect(P3, P4, P5)\n",
        "  ]"
      ],
      "execution_count": null,
      "outputs": []
    },
    {
      "cell_type": "markdown",
      "metadata": {
        "id": "VUOiNLtMP5aG"
      },
      "source": [
        "# Train Custom YOLOv5 Detector\n",
        "\n",
        "### Next, we'll fire off training!\n",
        "\n",
        "\n",
        "Here, we are able to pass a number of arguments:\n",
        "- **img:** define input image size\n",
        "- **batch:** determine batch size\n",
        "- **epochs:** define the number of training epochs. (Note: often, 3000+ are common here!)\n",
        "- **data:** set the path to our yaml file\n",
        "- **cfg:** specify our model configuration\n",
        "- **weights:** specify a custom path to weights. (Note: you can download weights from the Ultralytics Google Drive [folder](https://drive.google.com/open?id=1Drs_Aiu7xx6S-ix95f9kNsA6ueKRpN2J))\n",
        "- **name:** result names\n",
        "- **nosave:** only save the final checkpoint\n",
        "- **cache:** cache images for faster training"
      ]
    },
    {
      "cell_type": "code",
      "metadata": {
        "id": "1NcFxRcFdJ_O",
        "colab": {
          "base_uri": "https://localhost:8080/"
        },
        "outputId": "ff8beb7e-c654-4b08-b738-dfbe45eed33a"
      },
      "source": [
        "# train yolov5s on custom data for 100 epochs\n",
        "# time its performance\n",
        "%%time\n",
        "%cd /content/yolov5/\n",
        "!python train.py --img 416 --batch 16 --epochs 100 --data {dataset.location}/data.yaml --cfg ./models/custom_yolov5s.yaml --weights '' --name yolov5s_results  --cache"
      ],
      "execution_count": null,
      "outputs": [
        {
          "output_type": "stream",
          "name": "stdout",
          "text": [
            "/content/yolov5\n",
            "\u001b[34m\u001b[1mgithub: \u001b[0m⚠️ WARNING: code is out of date by 987 commits. Use 'git pull' to update or 'git clone https://github.com/ultralytics/yolov5' to download latest.\n",
            "YOLOv5 v4.0-126-g886f1c0 torch 1.10.0+cu111 CUDA:0 (Tesla T4, 15109.75MB)\n",
            "\n",
            "Namespace(adam=False, batch_size=16, bucket='', cache_images=True, cfg='./models/custom_yolov5s.yaml', data='/content/yolov5/InMoov-1/data.yaml', device='', entity=None, epochs=100, evolve=False, exist_ok=False, global_rank=-1, hyp='data/hyp.scratch.yaml', image_weights=False, img_size=[416, 416], linear_lr=False, local_rank=-1, log_artifacts=False, log_imgs=16, multi_scale=False, name='yolov5s_results', noautoanchor=False, nosave=False, notest=False, project='runs/train', quad=False, rect=False, resume=False, save_dir='runs/train/yolov5s_results', single_cls=False, sync_bn=False, total_batch_size=16, weights='', workers=8, world_size=1)\n",
            "\u001b[34m\u001b[1mwandb: \u001b[0mInstall Weights & Biases for YOLOv5 logging with 'pip install wandb' (recommended)\n",
            "Start Tensorboard with \"tensorboard --logdir runs/train\", view at http://localhost:6006/\n",
            "\u001b[34m\u001b[1mhyperparameters: \u001b[0mlr0=0.01, lrf=0.2, momentum=0.937, weight_decay=0.0005, warmup_epochs=3.0, warmup_momentum=0.8, warmup_bias_lr=0.1, box=0.05, cls=0.5, cls_pw=1.0, obj=1.0, obj_pw=1.0, iou_t=0.2, anchor_t=4.0, fl_gamma=0.0, hsv_h=0.015, hsv_s=0.7, hsv_v=0.4, degrees=0.0, translate=0.1, scale=0.5, shear=0.0, perspective=0.0, flipud=0.0, fliplr=0.5, mosaic=1.0, mixup=0.0\n",
            "\n",
            "                 from  n    params  module                                  arguments                     \n",
            "  0                -1  1      3520  models.common.Focus                     [3, 32, 3]                    \n",
            "  1                -1  1     18560  models.common.Conv                      [32, 64, 3, 2]                \n",
            "  2                -1  1     19904  models.common.BottleneckCSP             [64, 64, 1]                   \n",
            "  3                -1  1     73984  models.common.Conv                      [64, 128, 3, 2]               \n",
            "  4                -1  1    161152  models.common.BottleneckCSP             [128, 128, 3]                 \n",
            "  5                -1  1    295424  models.common.Conv                      [128, 256, 3, 2]              \n",
            "  6                -1  1    641792  models.common.BottleneckCSP             [256, 256, 3]                 \n",
            "  7                -1  1   1180672  models.common.Conv                      [256, 512, 3, 2]              \n",
            "  8                -1  1    656896  models.common.SPP                       [512, 512, [5, 9, 13]]        \n",
            "  9                -1  1   1248768  models.common.BottleneckCSP             [512, 512, 1, False]          \n",
            " 10                -1  1    131584  models.common.Conv                      [512, 256, 1, 1]              \n",
            " 11                -1  1         0  torch.nn.modules.upsampling.Upsample    [None, 2, 'nearest']          \n",
            " 12           [-1, 6]  1         0  models.common.Concat                    [1]                           \n",
            " 13                -1  1    378624  models.common.BottleneckCSP             [512, 256, 1, False]          \n",
            " 14                -1  1     33024  models.common.Conv                      [256, 128, 1, 1]              \n",
            " 15                -1  1         0  torch.nn.modules.upsampling.Upsample    [None, 2, 'nearest']          \n",
            " 16           [-1, 4]  1         0  models.common.Concat                    [1]                           \n",
            " 17                -1  1     95104  models.common.BottleneckCSP             [256, 128, 1, False]          \n",
            " 18                -1  1    147712  models.common.Conv                      [128, 128, 3, 2]              \n",
            " 19          [-1, 14]  1         0  models.common.Concat                    [1]                           \n",
            " 20                -1  1    313088  models.common.BottleneckCSP             [256, 256, 1, False]          \n",
            " 21                -1  1    590336  models.common.Conv                      [256, 256, 3, 2]              \n",
            " 22          [-1, 10]  1         0  models.common.Concat                    [1]                           \n",
            " 23                -1  1   1248768  models.common.BottleneckCSP             [512, 512, 1, False]          \n",
            " 24      [17, 20, 23]  1     21576  models.yolo.Detect                      [3, [[10, 13, 16, 30, 33, 23], [30, 61, 62, 45, 59, 119], [116, 90, 156, 198, 373, 326]], [128, 256, 512]]\n",
            "/usr/local/lib/python3.7/dist-packages/torch/functional.py:445: UserWarning: torch.meshgrid: in an upcoming release, it will be required to pass the indexing argument. (Triggered internally at  ../aten/src/ATen/native/TensorShape.cpp:2157.)\n",
            "  return _VF.meshgrid(tensors, **kwargs)  # type: ignore[attr-defined]\n",
            "Model Summary: 283 layers, 7260488 parameters, 7260488 gradients, 16.8 GFLOPS\n",
            "\n",
            "Scaled weight_decay = 0.0005\n",
            "Optimizer groups: 62 .bias, 70 conv.weight, 59 other\n",
            "\u001b[34m\u001b[1mtrain: \u001b[0mScanning 'InMoov-1/train/labels' for images and labels... 755 found, 0 missing, 0 empty, 0 corrupted: 100% 755/755 [00:00<00:00, 3105.71it/s]\n",
            "\u001b[34m\u001b[1mtrain: \u001b[0mNew cache created: InMoov-1/train/labels.cache\n",
            "\u001b[34m\u001b[1mtrain: \u001b[0mCaching images (0.4GB): 100% 755/755 [00:01<00:00, 480.86it/s]\n",
            "\u001b[34m\u001b[1mval: \u001b[0mScanning 'InMoov-1/valid/labels' for images and labels... 216 found, 0 missing, 0 empty, 0 corrupted: 100% 216/216 [00:00<00:00, 1623.03it/s]\n",
            "\u001b[34m\u001b[1mval: \u001b[0mNew cache created: InMoov-1/valid/labels.cache\n",
            "\u001b[34m\u001b[1mval: \u001b[0mCaching images (0.1GB): 100% 216/216 [00:00<00:00, 381.60it/s]\n",
            "Plotting labels... \n",
            "\n",
            "\u001b[34m\u001b[1mautoanchor: \u001b[0mAnalyzing anchors... anchors/target = 3.38, Best Possible Recall (BPR) = 1.0000\n",
            "Image sizes 416 train, 416 test\n",
            "Using 2 dataloader workers\n",
            "Logging results to runs/train/yolov5s_results\n",
            "Starting training for 100 epochs...\n",
            "\n",
            "     Epoch   gpu_mem       box       obj       cls     total   targets  img_size\n",
            "      0/99     1.42G    0.0922   0.02236   0.03733    0.1519         5       416: 100% 48/48 [00:10<00:00,  4.77it/s]\n",
            "               Class      Images     Targets           P           R      mAP@.5  mAP@.5:.95: 100% 7/7 [00:02<00:00,  2.66it/s]\n",
            "                 all         216         216     0.00172       0.482     0.00121    0.000143\n",
            "\n",
            "     Epoch   gpu_mem       box       obj       cls     total   targets  img_size\n",
            "      1/99      1.5G   0.07502    0.0242   0.03672    0.1359         6       416: 100% 48/48 [00:07<00:00,  6.34it/s]\n",
            "               Class      Images     Targets           P           R      mAP@.5  mAP@.5:.95: 100% 7/7 [00:01<00:00,  4.54it/s]\n",
            "                 all         216         216     0.00162       0.393     0.00403    0.000462\n",
            "\n",
            "     Epoch   gpu_mem       box       obj       cls     total   targets  img_size\n",
            "      2/99     1.51G   0.07109   0.02363   0.03632     0.131         5       416: 100% 48/48 [00:07<00:00,  6.25it/s]\n",
            "               Class      Images     Targets           P           R      mAP@.5  mAP@.5:.95: 100% 7/7 [00:01<00:00,  4.51it/s]\n",
            "                 all         216         216      0.0256      0.0183     0.00497    0.000966\n",
            "\n",
            "     Epoch   gpu_mem       box       obj       cls     total   targets  img_size\n",
            "      3/99     1.51G   0.06744   0.02441   0.03529    0.1271         8       416: 100% 48/48 [00:07<00:00,  6.55it/s]\n",
            "               Class      Images     Targets           P           R      mAP@.5  mAP@.5:.95: 100% 7/7 [00:01<00:00,  4.39it/s]\n",
            "                 all         216         216      0.0189      0.0227      0.0074    0.000841\n",
            "\n",
            "     Epoch   gpu_mem       box       obj       cls     total   targets  img_size\n",
            "      4/99     1.51G   0.06864   0.02386    0.0356    0.1281         9       416: 100% 48/48 [00:06<00:00,  6.88it/s]\n",
            "               Class      Images     Targets           P           R      mAP@.5  mAP@.5:.95: 100% 7/7 [00:01<00:00,  4.62it/s]\n",
            "                 all         216         216      0.0162      0.0274     0.00278    0.000368\n",
            "\n",
            "     Epoch   gpu_mem       box       obj       cls     total   targets  img_size\n",
            "      5/99     1.51G   0.06855   0.02409   0.03517    0.1278         7       416: 100% 48/48 [00:07<00:00,  6.59it/s]\n",
            "               Class      Images     Targets           P           R      mAP@.5  mAP@.5:.95: 100% 7/7 [00:01<00:00,  4.69it/s]\n",
            "                 all         216         216      0.0401      0.0278       0.012     0.00155\n",
            "\n",
            "     Epoch   gpu_mem       box       obj       cls     total   targets  img_size\n",
            "      6/99     1.51G   0.06915   0.02411   0.03625    0.1295         9       416: 100% 48/48 [00:07<00:00,  6.77it/s]\n",
            "               Class      Images     Targets           P           R      mAP@.5  mAP@.5:.95: 100% 7/7 [00:01<00:00,  4.69it/s]\n",
            "                 all         216         216      0.0351      0.0703       0.013     0.00196\n",
            "\n",
            "     Epoch   gpu_mem       box       obj       cls     total   targets  img_size\n",
            "      7/99     1.51G   0.06802   0.02489   0.03477    0.1277         8       416: 100% 48/48 [00:06<00:00,  6.86it/s]\n",
            "               Class      Images     Targets           P           R      mAP@.5  mAP@.5:.95: 100% 7/7 [00:01<00:00,  4.50it/s]\n",
            "                 all         216         216      0.0333      0.0751      0.0122     0.00191\n",
            "\n",
            "     Epoch   gpu_mem       box       obj       cls     total   targets  img_size\n",
            "      8/99     1.51G   0.06491   0.02378   0.03498    0.1237        11       416: 100% 48/48 [00:06<00:00,  6.88it/s]\n",
            "               Class      Images     Targets           P           R      mAP@.5  mAP@.5:.95: 100% 7/7 [00:01<00:00,  5.02it/s]\n",
            "                 all         216         216      0.0675       0.109      0.0216     0.00401\n",
            "\n",
            "     Epoch   gpu_mem       box       obj       cls     total   targets  img_size\n",
            "      9/99     1.51G   0.06485   0.02464   0.03493    0.1244         6       416: 100% 48/48 [00:06<00:00,  6.88it/s]\n",
            "               Class      Images     Targets           P           R      mAP@.5  mAP@.5:.95: 100% 7/7 [00:01<00:00,  4.37it/s]\n",
            "                 all         216         216      0.0356      0.0937      0.0201     0.00417\n",
            "\n",
            "     Epoch   gpu_mem       box       obj       cls     total   targets  img_size\n",
            "     10/99     1.51G   0.06352   0.02515   0.03465    0.1233         5       416: 100% 48/48 [00:07<00:00,  6.82it/s]\n",
            "               Class      Images     Targets           P           R      mAP@.5  mAP@.5:.95: 100% 7/7 [00:01<00:00,  4.44it/s]\n",
            "                 all         216         216      0.0369       0.149      0.0392     0.00837\n",
            "\n",
            "     Epoch   gpu_mem       box       obj       cls     total   targets  img_size\n",
            "     11/99     1.51G   0.06125    0.0262   0.03486    0.1223         6       416: 100% 48/48 [00:07<00:00,  6.83it/s]\n",
            "               Class      Images     Targets           P           R      mAP@.5  mAP@.5:.95: 100% 7/7 [00:01<00:00,  4.24it/s]\n",
            "                 all         216         216      0.0324       0.334      0.0343     0.00688\n",
            "\n",
            "     Epoch   gpu_mem       box       obj       cls     total   targets  img_size\n",
            "     12/99     1.51G   0.05767   0.02598   0.03457    0.1182         7       416: 100% 48/48 [00:07<00:00,  6.74it/s]\n",
            "               Class      Images     Targets           P           R      mAP@.5  mAP@.5:.95: 100% 7/7 [00:01<00:00,  5.20it/s]\n",
            "                 all         216         216       0.187       0.114      0.0594      0.0125\n",
            "\n",
            "     Epoch   gpu_mem       box       obj       cls     total   targets  img_size\n",
            "     13/99     1.51G   0.05655   0.02524   0.03545    0.1172         8       416: 100% 48/48 [00:06<00:00,  6.89it/s]\n",
            "               Class      Images     Targets           P           R      mAP@.5  mAP@.5:.95: 100% 7/7 [00:01<00:00,  4.39it/s]\n",
            "                 all         216         216       0.265       0.184       0.116      0.0327\n",
            "\n",
            "     Epoch   gpu_mem       box       obj       cls     total   targets  img_size\n",
            "     14/99     1.51G   0.05224   0.02516   0.03419    0.1116         4       416: 100% 48/48 [00:06<00:00,  6.91it/s]\n",
            "               Class      Images     Targets           P           R      mAP@.5  mAP@.5:.95: 100% 7/7 [00:01<00:00,  4.64it/s]\n",
            "                 all         216         216       0.151       0.315       0.143      0.0381\n",
            "\n",
            "     Epoch   gpu_mem       box       obj       cls     total   targets  img_size\n",
            "     15/99     1.51G   0.04901   0.02517   0.03466    0.1088        10       416: 100% 48/48 [00:06<00:00,  6.93it/s]\n",
            "               Class      Images     Targets           P           R      mAP@.5  mAP@.5:.95: 100% 7/7 [00:01<00:00,  4.43it/s]\n",
            "                 all         216         216       0.229       0.421       0.205      0.0575\n",
            "\n",
            "     Epoch   gpu_mem       box       obj       cls     total   targets  img_size\n",
            "     16/99     1.51G    0.0498   0.02408   0.03439    0.1083         9       416: 100% 48/48 [00:06<00:00,  6.91it/s]\n",
            "               Class      Images     Targets           P           R      mAP@.5  mAP@.5:.95: 100% 7/7 [00:01<00:00,  4.30it/s]\n",
            "                 all         216         216      0.0897        0.22      0.0478     0.00765\n",
            "\n",
            "     Epoch   gpu_mem       box       obj       cls     total   targets  img_size\n",
            "     17/99     1.51G   0.04846   0.02337   0.03477    0.1066         5       416: 100% 48/48 [00:06<00:00,  7.02it/s]\n",
            "               Class      Images     Targets           P           R      mAP@.5  mAP@.5:.95: 100% 7/7 [00:01<00:00,  5.10it/s]\n",
            "                 all         216         216      0.0443      0.0779      0.0094     0.00151\n",
            "\n",
            "     Epoch   gpu_mem       box       obj       cls     total   targets  img_size\n",
            "     18/99     1.51G   0.04771   0.02319   0.03453    0.1054         4       416: 100% 48/48 [00:06<00:00,  7.04it/s]\n",
            "               Class      Images     Targets           P           R      mAP@.5  mAP@.5:.95: 100% 7/7 [00:01<00:00,  4.79it/s]\n",
            "                 all         216         216      0.0471      0.0541     0.00884     0.00154\n",
            "\n",
            "     Epoch   gpu_mem       box       obj       cls     total   targets  img_size\n",
            "     19/99     1.51G   0.04786   0.02352   0.03463     0.106         6       416: 100% 48/48 [00:06<00:00,  6.95it/s]\n",
            "               Class      Images     Targets           P           R      mAP@.5  mAP@.5:.95: 100% 7/7 [00:01<00:00,  4.61it/s]\n",
            "                 all         216         216         0.1       0.409       0.102      0.0209\n",
            "\n",
            "     Epoch   gpu_mem       box       obj       cls     total   targets  img_size\n",
            "     20/99     1.51G   0.04466   0.02255   0.03457    0.1018         9       416: 100% 48/48 [00:06<00:00,  7.11it/s]\n",
            "               Class      Images     Targets           P           R      mAP@.5  mAP@.5:.95: 100% 7/7 [00:01<00:00,  4.81it/s]\n",
            "                 all         216         216       0.201       0.643       0.205       0.061\n",
            "\n",
            "     Epoch   gpu_mem       box       obj       cls     total   targets  img_size\n",
            "     21/99     1.51G    0.0448   0.02205   0.03441    0.1013         4       416: 100% 48/48 [00:06<00:00,  7.07it/s]\n",
            "               Class      Images     Targets           P           R      mAP@.5  mAP@.5:.95: 100% 7/7 [00:01<00:00,  4.96it/s]\n",
            "                 all         216         216        0.29       0.607       0.253      0.0665\n",
            "\n",
            "     Epoch   gpu_mem       box       obj       cls     total   targets  img_size\n",
            "     22/99     1.51G   0.04258   0.02044   0.03333   0.09635         3       416: 100% 48/48 [00:06<00:00,  7.17it/s]\n",
            "               Class      Images     Targets           P           R      mAP@.5  mAP@.5:.95: 100% 7/7 [00:01<00:00,  4.70it/s]\n",
            "                 all         216         216       0.316       0.806       0.353       0.138\n",
            "\n",
            "     Epoch   gpu_mem       box       obj       cls     total   targets  img_size\n",
            "     23/99     1.51G   0.04384   0.02126   0.03464   0.09974         7       416: 100% 48/48 [00:06<00:00,  6.88it/s]\n",
            "               Class      Images     Targets           P           R      mAP@.5  mAP@.5:.95: 100% 7/7 [00:01<00:00,  5.04it/s]\n",
            "                 all         216         216       0.324       0.803       0.321       0.132\n",
            "\n",
            "     Epoch   gpu_mem       box       obj       cls     total   targets  img_size\n",
            "     24/99     1.51G   0.04337   0.02181   0.03461   0.09979         6       416: 100% 48/48 [00:06<00:00,  7.00it/s]\n",
            "               Class      Images     Targets           P           R      mAP@.5  mAP@.5:.95: 100% 7/7 [00:01<00:00,  5.27it/s]\n",
            "                 all         216         216       0.323       0.762        0.33       0.129\n",
            "\n",
            "     Epoch   gpu_mem       box       obj       cls     total   targets  img_size\n",
            "     25/99     1.51G   0.04137   0.02074   0.03413   0.09625         6       416: 100% 48/48 [00:06<00:00,  7.03it/s]\n",
            "               Class      Images     Targets           P           R      mAP@.5  mAP@.5:.95: 100% 7/7 [00:01<00:00,  5.53it/s]\n",
            "                 all         216         216       0.227       0.333       0.118      0.0334\n",
            "\n",
            "     Epoch   gpu_mem       box       obj       cls     total   targets  img_size\n",
            "     26/99     1.51G   0.04072   0.01984     0.034   0.09455         4       416: 100% 48/48 [00:06<00:00,  6.98it/s]\n",
            "               Class      Images     Targets           P           R      mAP@.5  mAP@.5:.95: 100% 7/7 [00:01<00:00,  5.30it/s]\n",
            "                 all         216         216       0.273        0.76       0.288       0.117\n",
            "\n",
            "     Epoch   gpu_mem       box       obj       cls     total   targets  img_size\n",
            "     27/99     1.51G   0.03957   0.01992   0.03343   0.09292         3       416: 100% 48/48 [00:06<00:00,  7.06it/s]\n",
            "               Class      Images     Targets           P           R      mAP@.5  mAP@.5:.95: 100% 7/7 [00:01<00:00,  5.68it/s]\n",
            "                 all         216         216       0.335       0.501       0.339       0.134\n",
            "\n",
            "     Epoch   gpu_mem       box       obj       cls     total   targets  img_size\n",
            "     28/99     1.51G   0.04048   0.01975   0.03423   0.09446         5       416: 100% 48/48 [00:06<00:00,  7.10it/s]\n",
            "               Class      Images     Targets           P           R      mAP@.5  mAP@.5:.95: 100% 7/7 [00:01<00:00,  5.66it/s]\n",
            "                 all         216         216       0.264       0.853       0.302       0.124\n",
            "\n",
            "     Epoch   gpu_mem       box       obj       cls     total   targets  img_size\n",
            "     29/99     1.51G   0.04006   0.01997   0.03364   0.09366         6       416: 100% 48/48 [00:06<00:00,  7.13it/s]\n",
            "               Class      Images     Targets           P           R      mAP@.5  mAP@.5:.95: 100% 7/7 [00:01<00:00,  5.67it/s]\n",
            "                 all         216         216       0.393       0.668       0.444       0.183\n",
            "\n",
            "     Epoch   gpu_mem       box       obj       cls     total   targets  img_size\n",
            "     30/99     1.51G   0.03819   0.01979   0.03391   0.09189        10       416: 100% 48/48 [00:06<00:00,  7.00it/s]\n",
            "               Class      Images     Targets           P           R      mAP@.5  mAP@.5:.95: 100% 7/7 [00:01<00:00,  5.60it/s]\n",
            "                 all         216         216       0.336       0.896       0.384       0.167\n",
            "\n",
            "     Epoch   gpu_mem       box       obj       cls     total   targets  img_size\n",
            "     31/99     1.51G   0.03762   0.01837    0.0334   0.08939         8       416: 100% 48/48 [00:06<00:00,  7.02it/s]\n",
            "               Class      Images     Targets           P           R      mAP@.5  mAP@.5:.95: 100% 7/7 [00:01<00:00,  5.76it/s]\n",
            "                 all         216         216        0.36       0.793       0.467       0.217\n",
            "\n",
            "     Epoch   gpu_mem       box       obj       cls     total   targets  img_size\n",
            "     32/99     1.51G   0.03753   0.01861   0.03227   0.08841        10       416: 100% 48/48 [00:06<00:00,  7.10it/s]\n",
            "               Class      Images     Targets           P           R      mAP@.5  mAP@.5:.95: 100% 7/7 [00:01<00:00,  5.83it/s]\n",
            "                 all         216         216       0.315       0.856       0.432       0.202\n",
            "\n",
            "     Epoch   gpu_mem       box       obj       cls     total   targets  img_size\n",
            "     33/99     1.51G   0.03885   0.01869   0.03416    0.0917         4       416: 100% 48/48 [00:06<00:00,  7.06it/s]\n",
            "               Class      Images     Targets           P           R      mAP@.5  mAP@.5:.95: 100% 7/7 [00:01<00:00,  6.00it/s]\n",
            "                 all         216         216       0.328       0.943       0.444       0.208\n",
            "\n",
            "     Epoch   gpu_mem       box       obj       cls     total   targets  img_size\n",
            "     34/99     1.51G     0.037   0.01849    0.0335   0.08899         3       416: 100% 48/48 [00:06<00:00,  7.04it/s]\n",
            "               Class      Images     Targets           P           R      mAP@.5  mAP@.5:.95: 100% 7/7 [00:01<00:00,  5.99it/s]\n",
            "                 all         216         216       0.408       0.656       0.476       0.242\n",
            "\n",
            "     Epoch   gpu_mem       box       obj       cls     total   targets  img_size\n",
            "     35/99     1.51G   0.03642   0.01716   0.03311   0.08668         7       416: 100% 48/48 [00:06<00:00,  6.99it/s]\n",
            "               Class      Images     Targets           P           R      mAP@.5  mAP@.5:.95: 100% 7/7 [00:01<00:00,  5.71it/s]\n",
            "                 all         216         216       0.384       0.767       0.461       0.246\n",
            "\n",
            "     Epoch   gpu_mem       box       obj       cls     total   targets  img_size\n",
            "     36/99     1.51G   0.03515   0.01752   0.03329   0.08596         6       416: 100% 48/48 [00:06<00:00,  7.02it/s]\n",
            "               Class      Images     Targets           P           R      mAP@.5  mAP@.5:.95: 100% 7/7 [00:01<00:00,  5.36it/s]\n",
            "                 all         216         216       0.329       0.921       0.443       0.208\n",
            "\n",
            "     Epoch   gpu_mem       box       obj       cls     total   targets  img_size\n",
            "     37/99     1.51G   0.03554    0.0175   0.03323   0.08627         6       416: 100% 48/48 [00:06<00:00,  6.97it/s]\n",
            "               Class      Images     Targets           P           R      mAP@.5  mAP@.5:.95: 100% 7/7 [00:01<00:00,  6.04it/s]\n",
            "                 all         216         216       0.437       0.722       0.502       0.264\n",
            "\n",
            "     Epoch   gpu_mem       box       obj       cls     total   targets  img_size\n",
            "     38/99     1.51G   0.03561   0.01709   0.03284   0.08553         6       416: 100% 48/48 [00:07<00:00,  6.85it/s]\n",
            "               Class      Images     Targets           P           R      mAP@.5  mAP@.5:.95: 100% 7/7 [00:01<00:00,  6.00it/s]\n",
            "                 all         216         216       0.532       0.706       0.534       0.295\n",
            "\n",
            "     Epoch   gpu_mem       box       obj       cls     total   targets  img_size\n",
            "     39/99     1.51G   0.03346   0.01686    0.0323   0.08261         5       416: 100% 48/48 [00:06<00:00,  7.04it/s]\n",
            "               Class      Images     Targets           P           R      mAP@.5  mAP@.5:.95: 100% 7/7 [00:01<00:00,  6.16it/s]\n",
            "                 all         216         216       0.527       0.711        0.56       0.291\n",
            "\n",
            "     Epoch   gpu_mem       box       obj       cls     total   targets  img_size\n",
            "     40/99     1.51G    0.0335   0.01649   0.03249   0.08248         3       416: 100% 48/48 [00:06<00:00,  7.17it/s]\n",
            "               Class      Images     Targets           P           R      mAP@.5  mAP@.5:.95: 100% 7/7 [00:01<00:00,  5.47it/s]\n",
            "                 all         216         216       0.431       0.691       0.439        0.13\n",
            "\n",
            "     Epoch   gpu_mem       box       obj       cls     total   targets  img_size\n",
            "     41/99     1.51G   0.03364   0.01636   0.03173   0.08172         5       416: 100% 48/48 [00:07<00:00,  6.56it/s]\n",
            "               Class      Images     Targets           P           R      mAP@.5  mAP@.5:.95: 100% 7/7 [00:01<00:00,  4.98it/s]\n",
            "                 all         216         216       0.429       0.843       0.555       0.259\n",
            "\n",
            "     Epoch   gpu_mem       box       obj       cls     total   targets  img_size\n",
            "     42/99     1.51G   0.03416   0.01726   0.03199   0.08341         7       416: 100% 48/48 [00:06<00:00,  7.01it/s]\n",
            "               Class      Images     Targets           P           R      mAP@.5  mAP@.5:.95: 100% 7/7 [00:01<00:00,  5.55it/s]\n",
            "                 all         216         216       0.419       0.803       0.521       0.264\n",
            "\n",
            "     Epoch   gpu_mem       box       obj       cls     total   targets  img_size\n",
            "     43/99     1.51G   0.03138   0.01643   0.03123   0.07903         5       416: 100% 48/48 [00:06<00:00,  7.11it/s]\n",
            "               Class      Images     Targets           P           R      mAP@.5  mAP@.5:.95: 100% 7/7 [00:01<00:00,  6.22it/s]\n",
            "                 all         216         216       0.562       0.797       0.613       0.356\n",
            "\n",
            "     Epoch   gpu_mem       box       obj       cls     total   targets  img_size\n",
            "     44/99     1.51G   0.03136   0.01576    0.0306   0.07771         6       416: 100% 48/48 [00:06<00:00,  7.19it/s]\n",
            "               Class      Images     Targets           P           R      mAP@.5  mAP@.5:.95: 100% 7/7 [00:01<00:00,  5.92it/s]\n",
            "                 all         216         216       0.486       0.859       0.576       0.297\n",
            "\n",
            "     Epoch   gpu_mem       box       obj       cls     total   targets  img_size\n",
            "     45/99     1.51G   0.03172   0.01646   0.03217   0.08036         9       416: 100% 48/48 [00:06<00:00,  7.27it/s]\n",
            "               Class      Images     Targets           P           R      mAP@.5  mAP@.5:.95: 100% 7/7 [00:01<00:00,  6.10it/s]\n",
            "                 all         216         216       0.573       0.846       0.664       0.386\n",
            "\n",
            "     Epoch   gpu_mem       box       obj       cls     total   targets  img_size\n",
            "     46/99     1.51G   0.03135   0.01614   0.03019   0.07767        11       416: 100% 48/48 [00:06<00:00,  7.13it/s]\n",
            "               Class      Images     Targets           P           R      mAP@.5  mAP@.5:.95: 100% 7/7 [00:01<00:00,  5.99it/s]\n",
            "                 all         216         216       0.471       0.914       0.652       0.365\n",
            "\n",
            "     Epoch   gpu_mem       box       obj       cls     total   targets  img_size\n",
            "     47/99     1.51G   0.03257   0.01578   0.03094   0.07929         6       416: 100% 48/48 [00:06<00:00,  7.06it/s]\n",
            "               Class      Images     Targets           P           R      mAP@.5  mAP@.5:.95: 100% 7/7 [00:01<00:00,  5.54it/s]\n",
            "                 all         216         216       0.578       0.885       0.641       0.381\n",
            "\n",
            "     Epoch   gpu_mem       box       obj       cls     total   targets  img_size\n",
            "     48/99     1.51G    0.0324   0.01612   0.03084   0.07937        11       416: 100% 48/48 [00:06<00:00,  7.10it/s]\n",
            "               Class      Images     Targets           P           R      mAP@.5  mAP@.5:.95: 100% 7/7 [00:01<00:00,  5.94it/s]\n",
            "                 all         216         216       0.614       0.817       0.672       0.402\n",
            "\n",
            "     Epoch   gpu_mem       box       obj       cls     total   targets  img_size\n",
            "     49/99     1.51G   0.03061    0.0154   0.02949   0.07551         3       416: 100% 48/48 [00:06<00:00,  7.05it/s]\n",
            "               Class      Images     Targets           P           R      mAP@.5  mAP@.5:.95: 100% 7/7 [00:01<00:00,  6.08it/s]\n",
            "                 all         216         216       0.616       0.911       0.685       0.406\n",
            "\n",
            "     Epoch   gpu_mem       box       obj       cls     total   targets  img_size\n",
            "     50/99     1.51G   0.03067   0.01563   0.03018   0.07648         7       416: 100% 48/48 [00:06<00:00,  7.10it/s]\n",
            "               Class      Images     Targets           P           R      mAP@.5  mAP@.5:.95: 100% 7/7 [00:01<00:00,  5.99it/s]\n",
            "                 all         216         216       0.621       0.968        0.66       0.419\n",
            "\n",
            "     Epoch   gpu_mem       box       obj       cls     total   targets  img_size\n",
            "     51/99     1.51G   0.03098   0.01535   0.02866   0.07499         9       416: 100% 48/48 [00:06<00:00,  6.96it/s]\n",
            "               Class      Images     Targets           P           R      mAP@.5  mAP@.5:.95: 100% 7/7 [00:01<00:00,  6.02it/s]\n",
            "                 all         216         216       0.627       0.927       0.661       0.431\n",
            "\n",
            "     Epoch   gpu_mem       box       obj       cls     total   targets  img_size\n",
            "     52/99     1.51G    0.0313   0.01545   0.02948   0.07623         9       416: 100% 48/48 [00:06<00:00,  6.86it/s]\n",
            "               Class      Images     Targets           P           R      mAP@.5  mAP@.5:.95: 100% 7/7 [00:01<00:00,  5.96it/s]\n",
            "                 all         216         216       0.594       0.921       0.658       0.403\n",
            "\n",
            "     Epoch   gpu_mem       box       obj       cls     total   targets  img_size\n",
            "     53/99     1.51G   0.03052   0.01518   0.02806   0.07376         6       416: 100% 48/48 [00:06<00:00,  6.87it/s]\n",
            "               Class      Images     Targets           P           R      mAP@.5  mAP@.5:.95: 100% 7/7 [00:01<00:00,  5.63it/s]\n",
            "                 all         216         216        0.62       0.968       0.682       0.463\n",
            "\n",
            "     Epoch   gpu_mem       box       obj       cls     total   targets  img_size\n",
            "     54/99     1.51G   0.03061   0.01542   0.02907    0.0751         8       416: 100% 48/48 [00:06<00:00,  6.94it/s]\n",
            "               Class      Images     Targets           P           R      mAP@.5  mAP@.5:.95: 100% 7/7 [00:01<00:00,  5.85it/s]\n",
            "                 all         216         216       0.642       0.931       0.656       0.447\n",
            "\n",
            "     Epoch   gpu_mem       box       obj       cls     total   targets  img_size\n",
            "     55/99     1.51G    0.0308   0.01539   0.02872   0.07491         9       416: 100% 48/48 [00:06<00:00,  6.98it/s]\n",
            "               Class      Images     Targets           P           R      mAP@.5  mAP@.5:.95: 100% 7/7 [00:01<00:00,  5.76it/s]\n",
            "                 all         216         216       0.516       0.749       0.662       0.399\n",
            "\n",
            "     Epoch   gpu_mem       box       obj       cls     total   targets  img_size\n",
            "     56/99     1.51G    0.0306    0.0157   0.02872   0.07502         6       416: 100% 48/48 [00:06<00:00,  6.86it/s]\n",
            "               Class      Images     Targets           P           R      mAP@.5  mAP@.5:.95: 100% 7/7 [00:01<00:00,  5.99it/s]\n",
            "                 all         216         216        0.64       0.916       0.667       0.421\n",
            "\n",
            "     Epoch   gpu_mem       box       obj       cls     total   targets  img_size\n",
            "     57/99     1.51G   0.02948   0.01469   0.02754    0.0717         5       416: 100% 48/48 [00:06<00:00,  7.04it/s]\n",
            "               Class      Images     Targets           P           R      mAP@.5  mAP@.5:.95: 100% 7/7 [00:01<00:00,  5.85it/s]\n",
            "                 all         216         216       0.652       0.913       0.681       0.465\n",
            "\n",
            "     Epoch   gpu_mem       box       obj       cls     total   targets  img_size\n",
            "     58/99     1.51G   0.02884   0.01492    0.0285   0.07226         7       416: 100% 48/48 [00:06<00:00,  6.98it/s]\n",
            "               Class      Images     Targets           P           R      mAP@.5  mAP@.5:.95: 100% 7/7 [00:01<00:00,  5.91it/s]\n",
            "                 all         216         216       0.626       0.949       0.677       0.454\n",
            "\n",
            "     Epoch   gpu_mem       box       obj       cls     total   targets  img_size\n",
            "     59/99     1.51G   0.02908   0.01459   0.02806   0.07173         8       416: 100% 48/48 [00:06<00:00,  6.90it/s]\n",
            "               Class      Images     Targets           P           R      mAP@.5  mAP@.5:.95: 100% 7/7 [00:01<00:00,  5.97it/s]\n",
            "                 all         216         216       0.647        0.91       0.666       0.403\n",
            "\n",
            "     Epoch   gpu_mem       box       obj       cls     total   targets  img_size\n",
            "     60/99     1.51G    0.0288   0.01465   0.02753   0.07098         6       416: 100% 48/48 [00:06<00:00,  6.96it/s]\n",
            "               Class      Images     Targets           P           R      mAP@.5  mAP@.5:.95: 100% 7/7 [00:01<00:00,  5.98it/s]\n",
            "                 all         216         216       0.648       0.957       0.691       0.467\n",
            "\n",
            "     Epoch   gpu_mem       box       obj       cls     total   targets  img_size\n",
            "     61/99     1.51G   0.02996   0.01464   0.02735   0.07195         9       416: 100% 48/48 [00:06<00:00,  6.96it/s]\n",
            "               Class      Images     Targets           P           R      mAP@.5  mAP@.5:.95: 100% 7/7 [00:01<00:00,  6.03it/s]\n",
            "                 all         216         216       0.647       0.922       0.688       0.465\n",
            "\n",
            "     Epoch   gpu_mem       box       obj       cls     total   targets  img_size\n",
            "     62/99     1.51G    0.0286   0.01461   0.02796   0.07118         9       416: 100% 48/48 [00:06<00:00,  7.05it/s]\n",
            "               Class      Images     Targets           P           R      mAP@.5  mAP@.5:.95: 100% 7/7 [00:01<00:00,  6.12it/s]\n",
            "                 all         216         216       0.637       0.959       0.691       0.488\n",
            "\n",
            "     Epoch   gpu_mem       box       obj       cls     total   targets  img_size\n",
            "     63/99     1.51G   0.02841   0.01452   0.02779   0.07071         7       416: 100% 48/48 [00:06<00:00,  6.88it/s]\n",
            "               Class      Images     Targets           P           R      mAP@.5  mAP@.5:.95: 100% 7/7 [00:01<00:00,  6.13it/s]\n",
            "                 all         216         216       0.665       0.913       0.694       0.487\n",
            "\n",
            "     Epoch   gpu_mem       box       obj       cls     total   targets  img_size\n",
            "     64/99     1.51G   0.02852   0.01367   0.02543   0.06762         7       416: 100% 48/48 [00:06<00:00,  7.03it/s]\n",
            "               Class      Images     Targets           P           R      mAP@.5  mAP@.5:.95: 100% 7/7 [00:01<00:00,  6.09it/s]\n",
            "                 all         216         216       0.548       0.784       0.672       0.431\n",
            "\n",
            "     Epoch   gpu_mem       box       obj       cls     total   targets  img_size\n",
            "     65/99     1.51G   0.02756   0.01358   0.02772   0.06886         6       416: 100% 48/48 [00:06<00:00,  6.99it/s]\n",
            "               Class      Images     Targets           P           R      mAP@.5  mAP@.5:.95: 100% 7/7 [00:01<00:00,  5.95it/s]\n",
            "                 all         216         216        0.63        0.89       0.658       0.412\n",
            "\n",
            "     Epoch   gpu_mem       box       obj       cls     total   targets  img_size\n",
            "     66/99     1.51G   0.02811   0.01443    0.0272   0.06974         9       416: 100% 48/48 [00:06<00:00,  6.94it/s]\n",
            "               Class      Images     Targets           P           R      mAP@.5  mAP@.5:.95: 100% 7/7 [00:01<00:00,  5.95it/s]\n",
            "                 all         216         216       0.652       0.957       0.687       0.493\n",
            "\n",
            "     Epoch   gpu_mem       box       obj       cls     total   targets  img_size\n",
            "     67/99     1.51G   0.02728   0.01409   0.02632   0.06769         8       416: 100% 48/48 [00:06<00:00,  7.08it/s]\n",
            "               Class      Images     Targets           P           R      mAP@.5  mAP@.5:.95: 100% 7/7 [00:01<00:00,  5.95it/s]\n",
            "                 all         216         216       0.647       0.978       0.696       0.501\n",
            "\n",
            "     Epoch   gpu_mem       box       obj       cls     total   targets  img_size\n",
            "     68/99     1.51G   0.02743   0.01341   0.02651   0.06735         5       416: 100% 48/48 [00:06<00:00,  6.99it/s]\n",
            "               Class      Images     Targets           P           R      mAP@.5  mAP@.5:.95: 100% 7/7 [00:01<00:00,  6.09it/s]\n",
            "                 all         216         216       0.645       0.953        0.68       0.492\n",
            "\n",
            "     Epoch   gpu_mem       box       obj       cls     total   targets  img_size\n",
            "     69/99     1.51G   0.02677   0.01376   0.02579   0.06632         6       416: 100% 48/48 [00:06<00:00,  6.94it/s]\n",
            "               Class      Images     Targets           P           R      mAP@.5  mAP@.5:.95: 100% 7/7 [00:01<00:00,  5.97it/s]\n",
            "                 all         216         216       0.639       0.968       0.694       0.499\n",
            "\n",
            "     Epoch   gpu_mem       box       obj       cls     total   targets  img_size\n",
            "     70/99     1.51G   0.02518   0.01374   0.02517   0.06409        10       416: 100% 48/48 [00:06<00:00,  6.93it/s]\n",
            "               Class      Images     Targets           P           R      mAP@.5  mAP@.5:.95: 100% 7/7 [00:01<00:00,  5.83it/s]\n",
            "                 all         216         216       0.654       0.966       0.689       0.499\n",
            "\n",
            "     Epoch   gpu_mem       box       obj       cls     total   targets  img_size\n",
            "     71/99     1.51G   0.02572   0.01353   0.02565   0.06489         6       416: 100% 48/48 [00:06<00:00,  6.97it/s]\n",
            "               Class      Images     Targets           P           R      mAP@.5  mAP@.5:.95: 100% 7/7 [00:01<00:00,  6.09it/s]\n",
            "                 all         216         216       0.621        0.86       0.651       0.396\n",
            "\n",
            "     Epoch   gpu_mem       box       obj       cls     total   targets  img_size\n",
            "     72/99     1.51G   0.02764   0.01362   0.02609   0.06735         6       416: 100% 48/48 [00:06<00:00,  6.96it/s]\n",
            "               Class      Images     Targets           P           R      mAP@.5  mAP@.5:.95: 100% 7/7 [00:01<00:00,  6.12it/s]\n",
            "                 all         216         216        0.66       0.945       0.676       0.478\n",
            "\n",
            "     Epoch   gpu_mem       box       obj       cls     total   targets  img_size\n",
            "     73/99     1.51G   0.02655   0.01316   0.02713   0.06683         3       416: 100% 48/48 [00:06<00:00,  7.04it/s]\n",
            "               Class      Images     Targets           P           R      mAP@.5  mAP@.5:.95: 100% 7/7 [00:01<00:00,  5.52it/s]\n",
            "                 all         216         216       0.643        0.94       0.688       0.505\n",
            "\n",
            "     Epoch   gpu_mem       box       obj       cls     total   targets  img_size\n",
            "     74/99     1.51G   0.02584   0.01389   0.02644   0.06617         7       416: 100% 48/48 [00:06<00:00,  7.02it/s]\n",
            "               Class      Images     Targets           P           R      mAP@.5  mAP@.5:.95: 100% 7/7 [00:01<00:00,  6.12it/s]\n",
            "                 all         216         216        0.55        0.79       0.632       0.414\n",
            "\n",
            "     Epoch   gpu_mem       box       obj       cls     total   targets  img_size\n",
            "     75/99     1.51G   0.02507   0.01357   0.02523   0.06386         7       416: 100% 48/48 [00:06<00:00,  7.07it/s]\n",
            "               Class      Images     Targets           P           R      mAP@.5  mAP@.5:.95: 100% 7/7 [00:01<00:00,  6.06it/s]\n",
            "                 all         216         216       0.609       0.982       0.684       0.506\n",
            "\n",
            "     Epoch   gpu_mem       box       obj       cls     total   targets  img_size\n",
            "     76/99     1.51G   0.02648   0.01329   0.02583    0.0656         7       416: 100% 48/48 [00:06<00:00,  6.99it/s]\n",
            "               Class      Images     Targets           P           R      mAP@.5  mAP@.5:.95: 100% 7/7 [00:01<00:00,  5.97it/s]\n",
            "                 all         216         216       0.649       0.972       0.685       0.528\n",
            "\n",
            "     Epoch   gpu_mem       box       obj       cls     total   targets  img_size\n",
            "     77/99     1.51G   0.02533   0.01281   0.02398   0.06212         5       416: 100% 48/48 [00:06<00:00,  7.07it/s]\n",
            "               Class      Images     Targets           P           R      mAP@.5  mAP@.5:.95: 100% 7/7 [00:01<00:00,  6.10it/s]\n",
            "                 all         216         216       0.661       0.947       0.668       0.448\n",
            "\n",
            "     Epoch   gpu_mem       box       obj       cls     total   targets  img_size\n",
            "     78/99     1.51G   0.02531   0.01341   0.02527   0.06399        12       416: 100% 48/48 [00:06<00:00,  7.10it/s]\n",
            "               Class      Images     Targets           P           R      mAP@.5  mAP@.5:.95: 100% 7/7 [00:01<00:00,  6.17it/s]\n",
            "                 all         216         216       0.655       0.968       0.683       0.496\n",
            "\n",
            "     Epoch   gpu_mem       box       obj       cls     total   targets  img_size\n",
            "     79/99     1.51G   0.02647   0.01322   0.02575   0.06543         5       416: 100% 48/48 [00:06<00:00,  7.04it/s]\n",
            "               Class      Images     Targets           P           R      mAP@.5  mAP@.5:.95: 100% 7/7 [00:01<00:00,  6.07it/s]\n",
            "                 all         216         216       0.645       0.981       0.686       0.513\n",
            "\n",
            "     Epoch   gpu_mem       box       obj       cls     total   targets  img_size\n",
            "     80/99     1.51G   0.02624   0.01316   0.02517   0.06457         6       416: 100% 48/48 [00:06<00:00,  6.88it/s]\n",
            "               Class      Images     Targets           P           R      mAP@.5  mAP@.5:.95: 100% 7/7 [00:01<00:00,  6.07it/s]\n",
            "                 all         216         216        0.65       0.982       0.691       0.522\n",
            "\n",
            "     Epoch   gpu_mem       box       obj       cls     total   targets  img_size\n",
            "     81/99     1.51G    0.0264   0.01298   0.02389   0.06328         6       416: 100% 48/48 [00:06<00:00,  7.06it/s]\n",
            "               Class      Images     Targets           P           R      mAP@.5  mAP@.5:.95: 100% 7/7 [00:01<00:00,  5.66it/s]\n",
            "                 all         216         216       0.654       0.978       0.689       0.512\n",
            "\n",
            "     Epoch   gpu_mem       box       obj       cls     total   targets  img_size\n",
            "     82/99     1.51G   0.02599   0.01313   0.02541   0.06454         9       416: 100% 48/48 [00:07<00:00,  6.82it/s]\n",
            "               Class      Images     Targets           P           R      mAP@.5  mAP@.5:.95: 100% 7/7 [00:01<00:00,  6.08it/s]\n",
            "                 all         216         216       0.614       0.982       0.677       0.506\n",
            "\n",
            "     Epoch   gpu_mem       box       obj       cls     total   targets  img_size\n",
            "     83/99     1.51G   0.02494    0.0131   0.02435    0.0624        10       416: 100% 48/48 [00:06<00:00,  6.92it/s]\n",
            "               Class      Images     Targets           P           R      mAP@.5  mAP@.5:.95: 100% 7/7 [00:01<00:00,  5.68it/s]\n",
            "                 all         216         216       0.661       0.964       0.688       0.521\n",
            "\n",
            "     Epoch   gpu_mem       box       obj       cls     total   targets  img_size\n",
            "     84/99     1.51G   0.02339   0.01295   0.02333   0.05967         9       416: 100% 48/48 [00:06<00:00,  6.95it/s]\n",
            "               Class      Images     Targets           P           R      mAP@.5  mAP@.5:.95: 100% 7/7 [00:01<00:00,  6.15it/s]\n",
            "                 all         216         216       0.656       0.965        0.69       0.536\n"
          ]
        }
      ]
    },
    {
      "cell_type": "markdown",
      "metadata": {
        "id": "kJVs_4zEeVbF"
      },
      "source": [
        "# Evaluate Custom YOLOv5 Detector Performance"
      ]
    },
    {
      "cell_type": "markdown",
      "metadata": {
        "id": "7KN5ghjE6ZWh"
      },
      "source": [
        "Training losses and performance metrics are saved to Tensorboard and also to a logfile defined above with the **--name** flag when we train. In our case, we named this `yolov5s_results`. (If given no name, it defaults to `results.txt`.) The results file is plotted as a png after training completes.\n",
        "\n",
        "Note from Glenn: Partially completed `results.txt` files can be plotted with `from utils.utils import plot_results; plot_results()`."
      ]
    },
    {
      "cell_type": "code",
      "metadata": {
        "id": "bOy5KI2ncnWd"
      },
      "source": [
        "# Start tensorboard\n",
        "# Launch after you have started training\n",
        "# logs save in the folder \"runs\"\n",
        "%load_ext tensorboard\n",
        "%tensorboard --logdir runs"
      ],
      "execution_count": null,
      "outputs": []
    },
    {
      "cell_type": "code",
      "metadata": {
        "id": "C60XAsyv6OPe"
      },
      "source": [
        "# we can also output some older school graphs if the tensor board isn't working for whatever reason... \n",
        "from utils.plots import plot_results  # plot results.txt as results.png\n",
        "Image(filename='/content/yolov5/runs/train/yolov5s_results/results.png', width=1000)  # view results.png"
      ],
      "execution_count": null,
      "outputs": []
    },
    {
      "cell_type": "markdown",
      "metadata": {
        "id": "DLI1JmHU7B0l"
      },
      "source": [
        "### Curious? Visualize Our Training Data with Labels\n",
        "\n",
        "After training starts, view `train*.jpg` images to see training images, labels and augmentation effects.\n",
        "\n",
        "Note a mosaic dataloader is used for training (shown below), a new dataloading concept developed by Glenn Jocher and first featured in [YOLOv4](https://arxiv.org/abs/2004.10934)."
      ]
    },
    {
      "cell_type": "code",
      "metadata": {
        "id": "PF9MLHDb7tB6"
      },
      "source": [
        "# first, display our ground truth data\n",
        "print(\"GROUND TRUTH TRAINING DATA:\")\n",
        "Image(filename='/content/yolov5/runs/train/yolov5s_results/test_batch0_labels.jpg', width=900)"
      ],
      "execution_count": null,
      "outputs": []
    },
    {
      "cell_type": "code",
      "metadata": {
        "id": "W40tI99_7BcH"
      },
      "source": [
        "# print out an augmented training example\n",
        "print(\"GROUND TRUTH AUGMENTED TRAINING DATA:\")\n",
        "Image(filename='/content/yolov5/runs/train/yolov5s_results/train_batch0.jpg', width=900)"
      ],
      "execution_count": null,
      "outputs": []
    },
    {
      "cell_type": "markdown",
      "metadata": {
        "id": "N3qM6T0W53gh"
      },
      "source": [
        "#Run Inference  With Trained Weights\n",
        "Run inference with a pretrained checkpoint on contents of `test/images` folder downloaded from Roboflow."
      ]
    },
    {
      "cell_type": "code",
      "metadata": {
        "id": "yIEwt5YLeQ7P",
        "colab": {
          "base_uri": "https://localhost:8080/"
        },
        "outputId": "d042529c-2d05-49e1-f53c-a8aac20eaab7"
      },
      "source": [
        "# trained weights are saved by default in our weights folder\n",
        "%ls runs/"
      ],
      "execution_count": null,
      "outputs": [
        {
          "output_type": "stream",
          "text": [
            "\u001b[0m\u001b[01;34mtrain\u001b[0m/\n"
          ],
          "name": "stdout"
        }
      ]
    },
    {
      "cell_type": "code",
      "metadata": {
        "id": "4SyOWS80qR32"
      },
      "source": [
        "%ls runs/train/yolov5s_results/weights"
      ],
      "execution_count": null,
      "outputs": []
    },
    {
      "cell_type": "code",
      "source": [
        "python detect.py --weights runs/train/yolov5s_results/weights/best.pt--source 0 "
      ],
      "metadata": {
        "id": "AvcoI7BqaxCT"
      },
      "execution_count": null,
      "outputs": []
    },
    {
      "cell_type": "code",
      "metadata": {
        "id": "9nmZZnWOgJ2S"
      },
      "source": [
        "# when we ran this, we saw .007 second inference time. That is 140 FPS on a TESLA P100!\n",
        "# use the best weights!\n",
        "%cd /content/yolov5/\n",
        "!python detect.py --weights runs/train/yolov5s_results/weights/best.pt --img 416 --conf 0.4 --source ../test/images"
      ],
      "execution_count": null,
      "outputs": []
    },
    {
      "cell_type": "code",
      "metadata": {
        "id": "odKEqYtTgbRc"
      },
      "source": [
        "#display inference on ALL test images\n",
        "#this looks much better with longer training above\n",
        "\n",
        "import glob\n",
        "from IPython.display import Image, display\n",
        "\n",
        "for imageName in glob.glob('/content/yolov5/runs/detect/exp/*.jpg'): #assuming JPG\n",
        "    display(Image(filename=imageName))\n",
        "    print(\"\\n\")"
      ],
      "execution_count": null,
      "outputs": []
    },
    {
      "cell_type": "markdown",
      "metadata": {
        "id": "_uPq9mVgiBql"
      },
      "source": [
        "# Export Trained Weights for Future Inference\n",
        "\n",
        "Now that you have trained your custom detector, you can export the trained weights you have made here for inference on your device elsewhere"
      ]
    },
    {
      "cell_type": "code",
      "metadata": {
        "id": "YH4CTzDRh00g"
      },
      "source": [
        "from google.colab import drive\n",
        "drive.mount('/content/gdrive')"
      ],
      "execution_count": null,
      "outputs": []
    },
    {
      "cell_type": "code",
      "metadata": {
        "id": "1x_wg3VeiXMW"
      },
      "source": [
        "%cp /content/yolov5/runs/train/yolov5s_results/weights/best.pt /content/gdrive/My\\ Drive"
      ],
      "execution_count": null,
      "outputs": []
    },
    {
      "cell_type": "markdown",
      "metadata": {
        "id": "LVpCFeU-K4gb"
      },
      "source": [
        "## Congrats!\n",
        "\n",
        "Hope you enjoyed this!\n",
        "\n",
        "--Team [Roboflow](https://roboflow.ai)"
      ]
    }
  ]
}